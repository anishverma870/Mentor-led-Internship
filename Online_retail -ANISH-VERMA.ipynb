{
 "cells": [
  {
   "cell_type": "markdown",
   "id": "525314d9-9a95-4cbd-b2c0-b84817e61f68",
   "metadata": {},
   "source": [
    "#### Import necessary libraries for data manipulation and preprocessing"
   ]
  },
  {
   "cell_type": "code",
   "execution_count": 3,
   "id": "b32d957a-3167-4859-a00e-28c8b5839b39",
   "metadata": {},
   "outputs": [],
   "source": [
    "import pandas as pd \n",
    "import numpy as np \n",
    "import matplotlib.pyplot as plt\n",
    "import seaborn as sns \n",
    "import warnings\n",
    "warnings.filterwarnings('ignore')\n",
    "pd.set_option(\"display.max_columns\", None)"
   ]
  },
  {
   "cell_type": "markdown",
   "id": "b0404dbb-6bb4-4d69-b194-86ac1aec66d7",
   "metadata": {},
   "source": [
    "1. Load the Data:\n",
    "Read data from various sources such as CSV files, Excel files, and SQL databases."
   ]
  },
  {
   "cell_type": "code",
   "execution_count": 5,
   "id": "309b1513-60ba-47b0-8f4a-92e88e84450f",
   "metadata": {},
   "outputs": [],
   "source": [
    "df = pd.read_excel(\"Online Retail.xlsx\")"
   ]
  },
  {
   "cell_type": "markdown",
   "id": "e8d0f32c-010d-42d6-a3f0-2257740b7613",
   "metadata": {},
   "source": [
    "2. Understand the Data:\n",
    "Explore basic information about the data, including head, info, and describe.\n",
    "Check for missing values in the dataset."
   ]
  },
  {
   "cell_type": "code",
   "execution_count": 7,
   "id": "f3dbfa53-9e22-45ce-a84c-6d4f9aec7afa",
   "metadata": {},
   "outputs": [
    {
     "data": {
      "text/html": [
       "<div>\n",
       "<style scoped>\n",
       "    .dataframe tbody tr th:only-of-type {\n",
       "        vertical-align: middle;\n",
       "    }\n",
       "\n",
       "    .dataframe tbody tr th {\n",
       "        vertical-align: top;\n",
       "    }\n",
       "\n",
       "    .dataframe thead th {\n",
       "        text-align: right;\n",
       "    }\n",
       "</style>\n",
       "<table border=\"1\" class=\"dataframe\">\n",
       "  <thead>\n",
       "    <tr style=\"text-align: right;\">\n",
       "      <th></th>\n",
       "      <th>InvoiceNo</th>\n",
       "      <th>StockCode</th>\n",
       "      <th>Description</th>\n",
       "      <th>Quantity</th>\n",
       "      <th>InvoiceDate</th>\n",
       "      <th>UnitPrice</th>\n",
       "      <th>CustomerID</th>\n",
       "      <th>Country</th>\n",
       "    </tr>\n",
       "  </thead>\n",
       "  <tbody>\n",
       "    <tr>\n",
       "      <th>0</th>\n",
       "      <td>536365</td>\n",
       "      <td>85123A</td>\n",
       "      <td>WHITE HANGING HEART T-LIGHT HOLDER</td>\n",
       "      <td>6</td>\n",
       "      <td>2010-12-01 08:26:00</td>\n",
       "      <td>2.55</td>\n",
       "      <td>17850.0</td>\n",
       "      <td>United Kingdom</td>\n",
       "    </tr>\n",
       "    <tr>\n",
       "      <th>1</th>\n",
       "      <td>536365</td>\n",
       "      <td>71053</td>\n",
       "      <td>WHITE METAL LANTERN</td>\n",
       "      <td>6</td>\n",
       "      <td>2010-12-01 08:26:00</td>\n",
       "      <td>3.39</td>\n",
       "      <td>17850.0</td>\n",
       "      <td>United Kingdom</td>\n",
       "    </tr>\n",
       "    <tr>\n",
       "      <th>2</th>\n",
       "      <td>536365</td>\n",
       "      <td>84406B</td>\n",
       "      <td>CREAM CUPID HEARTS COAT HANGER</td>\n",
       "      <td>8</td>\n",
       "      <td>2010-12-01 08:26:00</td>\n",
       "      <td>2.75</td>\n",
       "      <td>17850.0</td>\n",
       "      <td>United Kingdom</td>\n",
       "    </tr>\n",
       "    <tr>\n",
       "      <th>3</th>\n",
       "      <td>536365</td>\n",
       "      <td>84029G</td>\n",
       "      <td>KNITTED UNION FLAG HOT WATER BOTTLE</td>\n",
       "      <td>6</td>\n",
       "      <td>2010-12-01 08:26:00</td>\n",
       "      <td>3.39</td>\n",
       "      <td>17850.0</td>\n",
       "      <td>United Kingdom</td>\n",
       "    </tr>\n",
       "    <tr>\n",
       "      <th>4</th>\n",
       "      <td>536365</td>\n",
       "      <td>84029E</td>\n",
       "      <td>RED WOOLLY HOTTIE WHITE HEART.</td>\n",
       "      <td>6</td>\n",
       "      <td>2010-12-01 08:26:00</td>\n",
       "      <td>3.39</td>\n",
       "      <td>17850.0</td>\n",
       "      <td>United Kingdom</td>\n",
       "    </tr>\n",
       "  </tbody>\n",
       "</table>\n",
       "</div>"
      ],
      "text/plain": [
       "  InvoiceNo StockCode                          Description  Quantity  \\\n",
       "0    536365    85123A   WHITE HANGING HEART T-LIGHT HOLDER         6   \n",
       "1    536365     71053                  WHITE METAL LANTERN         6   \n",
       "2    536365    84406B       CREAM CUPID HEARTS COAT HANGER         8   \n",
       "3    536365    84029G  KNITTED UNION FLAG HOT WATER BOTTLE         6   \n",
       "4    536365    84029E       RED WOOLLY HOTTIE WHITE HEART.         6   \n",
       "\n",
       "          InvoiceDate  UnitPrice  CustomerID         Country  \n",
       "0 2010-12-01 08:26:00       2.55     17850.0  United Kingdom  \n",
       "1 2010-12-01 08:26:00       3.39     17850.0  United Kingdom  \n",
       "2 2010-12-01 08:26:00       2.75     17850.0  United Kingdom  \n",
       "3 2010-12-01 08:26:00       3.39     17850.0  United Kingdom  \n",
       "4 2010-12-01 08:26:00       3.39     17850.0  United Kingdom  "
      ]
     },
     "execution_count": 7,
     "metadata": {},
     "output_type": "execute_result"
    }
   ],
   "source": [
    "df.head()"
   ]
  },
  {
   "cell_type": "code",
   "execution_count": 8,
   "id": "19c2d03a-27b4-4c94-a333-f10110c9d514",
   "metadata": {},
   "outputs": [
    {
     "data": {
      "text/plain": [
       "(541909, 8)"
      ]
     },
     "execution_count": 8,
     "metadata": {},
     "output_type": "execute_result"
    }
   ],
   "source": [
    "df.shape"
   ]
  },
  {
   "cell_type": "code",
   "execution_count": 9,
   "id": "cb9d2ec4-3001-42e0-8e45-ab08b5ec6540",
   "metadata": {},
   "outputs": [
    {
     "name": "stdout",
     "output_type": "stream",
     "text": [
      "<class 'pandas.core.frame.DataFrame'>\n",
      "RangeIndex: 541909 entries, 0 to 541908\n",
      "Data columns (total 8 columns):\n",
      " #   Column       Non-Null Count   Dtype         \n",
      "---  ------       --------------   -----         \n",
      " 0   InvoiceNo    541909 non-null  object        \n",
      " 1   StockCode    541909 non-null  object        \n",
      " 2   Description  540455 non-null  object        \n",
      " 3   Quantity     541909 non-null  int64         \n",
      " 4   InvoiceDate  541909 non-null  datetime64[ns]\n",
      " 5   UnitPrice    541909 non-null  float64       \n",
      " 6   CustomerID   406829 non-null  float64       \n",
      " 7   Country      541909 non-null  object        \n",
      "dtypes: datetime64[ns](1), float64(2), int64(1), object(4)\n",
      "memory usage: 33.1+ MB\n"
     ]
    }
   ],
   "source": [
    "df.info()"
   ]
  },
  {
   "cell_type": "code",
   "execution_count": 10,
   "id": "80ab45c3-dbb3-4fa8-b886-83e55157924a",
   "metadata": {},
   "outputs": [
    {
     "data": {
      "text/html": [
       "<div>\n",
       "<style scoped>\n",
       "    .dataframe tbody tr th:only-of-type {\n",
       "        vertical-align: middle;\n",
       "    }\n",
       "\n",
       "    .dataframe tbody tr th {\n",
       "        vertical-align: top;\n",
       "    }\n",
       "\n",
       "    .dataframe thead th {\n",
       "        text-align: right;\n",
       "    }\n",
       "</style>\n",
       "<table border=\"1\" class=\"dataframe\">\n",
       "  <thead>\n",
       "    <tr style=\"text-align: right;\">\n",
       "      <th></th>\n",
       "      <th>Quantity</th>\n",
       "      <th>InvoiceDate</th>\n",
       "      <th>UnitPrice</th>\n",
       "      <th>CustomerID</th>\n",
       "    </tr>\n",
       "  </thead>\n",
       "  <tbody>\n",
       "    <tr>\n",
       "      <th>count</th>\n",
       "      <td>541909.000000</td>\n",
       "      <td>541909</td>\n",
       "      <td>541909.000000</td>\n",
       "      <td>406829.000000</td>\n",
       "    </tr>\n",
       "    <tr>\n",
       "      <th>mean</th>\n",
       "      <td>9.552250</td>\n",
       "      <td>2011-07-04 13:34:57.156386048</td>\n",
       "      <td>4.611114</td>\n",
       "      <td>15287.690570</td>\n",
       "    </tr>\n",
       "    <tr>\n",
       "      <th>min</th>\n",
       "      <td>-80995.000000</td>\n",
       "      <td>2010-12-01 08:26:00</td>\n",
       "      <td>-11062.060000</td>\n",
       "      <td>12346.000000</td>\n",
       "    </tr>\n",
       "    <tr>\n",
       "      <th>25%</th>\n",
       "      <td>1.000000</td>\n",
       "      <td>2011-03-28 11:34:00</td>\n",
       "      <td>1.250000</td>\n",
       "      <td>13953.000000</td>\n",
       "    </tr>\n",
       "    <tr>\n",
       "      <th>50%</th>\n",
       "      <td>3.000000</td>\n",
       "      <td>2011-07-19 17:17:00</td>\n",
       "      <td>2.080000</td>\n",
       "      <td>15152.000000</td>\n",
       "    </tr>\n",
       "    <tr>\n",
       "      <th>75%</th>\n",
       "      <td>10.000000</td>\n",
       "      <td>2011-10-19 11:27:00</td>\n",
       "      <td>4.130000</td>\n",
       "      <td>16791.000000</td>\n",
       "    </tr>\n",
       "    <tr>\n",
       "      <th>max</th>\n",
       "      <td>80995.000000</td>\n",
       "      <td>2011-12-09 12:50:00</td>\n",
       "      <td>38970.000000</td>\n",
       "      <td>18287.000000</td>\n",
       "    </tr>\n",
       "    <tr>\n",
       "      <th>std</th>\n",
       "      <td>218.081158</td>\n",
       "      <td>NaN</td>\n",
       "      <td>96.759853</td>\n",
       "      <td>1713.600303</td>\n",
       "    </tr>\n",
       "  </tbody>\n",
       "</table>\n",
       "</div>"
      ],
      "text/plain": [
       "            Quantity                    InvoiceDate      UnitPrice  \\\n",
       "count  541909.000000                         541909  541909.000000   \n",
       "mean        9.552250  2011-07-04 13:34:57.156386048       4.611114   \n",
       "min    -80995.000000            2010-12-01 08:26:00  -11062.060000   \n",
       "25%         1.000000            2011-03-28 11:34:00       1.250000   \n",
       "50%         3.000000            2011-07-19 17:17:00       2.080000   \n",
       "75%        10.000000            2011-10-19 11:27:00       4.130000   \n",
       "max     80995.000000            2011-12-09 12:50:00   38970.000000   \n",
       "std       218.081158                            NaN      96.759853   \n",
       "\n",
       "          CustomerID  \n",
       "count  406829.000000  \n",
       "mean    15287.690570  \n",
       "min     12346.000000  \n",
       "25%     13953.000000  \n",
       "50%     15152.000000  \n",
       "75%     16791.000000  \n",
       "max     18287.000000  \n",
       "std      1713.600303  "
      ]
     },
     "execution_count": 10,
     "metadata": {},
     "output_type": "execute_result"
    }
   ],
   "source": [
    "df.describe()"
   ]
  },
  {
   "cell_type": "code",
   "execution_count": 11,
   "id": "a46fec9c-a699-4599-8f78-ca1bd8bcf195",
   "metadata": {},
   "outputs": [
    {
     "data": {
      "text/plain": [
       "InvoiceNo      0.000000\n",
       "StockCode      0.000000\n",
       "Description    0.002683\n",
       "Quantity       0.000000\n",
       "InvoiceDate    0.000000\n",
       "UnitPrice      0.000000\n",
       "CustomerID     0.249267\n",
       "Country        0.000000\n",
       "dtype: float64"
      ]
     },
     "execution_count": 11,
     "metadata": {},
     "output_type": "execute_result"
    }
   ],
   "source": [
    "df.isnull().mean()"
   ]
  },
  {
   "cell_type": "markdown",
   "id": "b018658b-ea3d-465a-9c6b-3ecbc9b620dd",
   "metadata": {},
   "source": [
    " --- 3. Clean the Data ---\n",
    "   \n",
    "Handle missing values by either dropping or filling them.\n",
    "\n",
    "Remove duplicate entries in the dataset.\n",
    "\n",
    "Correct data types as necessary."
   ]
  },
  {
   "cell_type": "code",
   "execution_count": 13,
   "id": "9d944d1c-199d-4c69-94c9-7abf0363f309",
   "metadata": {},
   "outputs": [],
   "source": [
    "df_clean = df.dropna(subset=['Description', 'CustomerID'])"
   ]
  },
  {
   "cell_type": "code",
   "execution_count": 14,
   "id": "bdec1b07-2229-46c4-87d2-fbb70e778730",
   "metadata": {},
   "outputs": [],
   "source": [
    "df_clean.drop_duplicates(inplace=True)"
   ]
  },
  {
   "cell_type": "code",
   "execution_count": 15,
   "id": "4589675e-7c94-43c6-94eb-5dffafd98690",
   "metadata": {},
   "outputs": [],
   "source": [
    "df_clean[\"InvoiceNo\"] = df_clean[\"InvoiceNo\"].astype(str).str.strip()\n"
   ]
  },
  {
   "cell_type": "code",
   "execution_count": 16,
   "id": "42baacd6-9c78-4cd3-8cde-2c76bb5d7137",
   "metadata": {},
   "outputs": [],
   "source": [
    "df_clean[\"InvoiceNo\"] = df_clean[\"InvoiceNo\"].str.replace(r\"[^0-9]\", \"\", regex=True)\n"
   ]
  },
  {
   "cell_type": "code",
   "execution_count": 17,
   "id": "99b23eb4-6580-4d41-9ccf-432d58083b3a",
   "metadata": {},
   "outputs": [],
   "source": [
    "\n",
    "df_clean[\"InvoiceNo\"] = df_clean[\"InvoiceNo\"].replace(\"\", np.nan)\n"
   ]
  },
  {
   "cell_type": "code",
   "execution_count": 18,
   "id": "43f4abd7-eb85-464e-8a5c-0c3fedbe3ba0",
   "metadata": {},
   "outputs": [],
   "source": [
    "df_clean[\"InvoiceNo\"] = pd.to_numeric(df_clean[\"InvoiceNo\"], errors=\"coerce\").astype('Int64')\n"
   ]
  },
  {
   "cell_type": "code",
   "execution_count": 19,
   "id": "150bd7c5-a086-476a-8ae6-54b24f307077",
   "metadata": {},
   "outputs": [
    {
     "name": "stdout",
     "output_type": "stream",
     "text": [
      "0 rows still have invalid InvoiceNo\n"
     ]
    }
   ],
   "source": [
    "print(df_clean[\"InvoiceNo\"].isna().sum(), \"rows still have invalid InvoiceNo\")\n"
   ]
  },
  {
   "cell_type": "code",
   "execution_count": 20,
   "id": "45cdf5ec-ff7f-4a05-8650-a6aee9ee1215",
   "metadata": {},
   "outputs": [],
   "source": [
    "\n",
    "df_clean[\"CustomerID\"] = df_clean[\"CustomerID\"].replace(\"\", np.nan)\n"
   ]
  },
  {
   "cell_type": "code",
   "execution_count": 21,
   "id": "a5022ce4-02c5-4987-a8ca-00cf24198992",
   "metadata": {},
   "outputs": [],
   "source": [
    "df_clean.dropna(subset=['CustomerID'],inplace=True)"
   ]
  },
  {
   "cell_type": "code",
   "execution_count": 22,
   "id": "e8e8604a-8380-4d5e-b7c2-7f81cc90ee7a",
   "metadata": {},
   "outputs": [],
   "source": [
    "df_clean[\"InvoiceDate\"] = pd.to_datetime(df_clean[\"InvoiceDate\"], errors='coerce')"
   ]
  },
  {
   "cell_type": "code",
   "execution_count": 23,
   "id": "d827bfd1-9c03-4b58-928d-91ede670c41f",
   "metadata": {},
   "outputs": [],
   "source": [
    "df_clean[\"UnitPrice\"] = df_clean[\"UnitPrice\"].abs()   # convert -123 → 123"
   ]
  },
  {
   "cell_type": "code",
   "execution_count": 24,
   "id": "082bcf74-5c78-41d5-96f1-e38f67612e44",
   "metadata": {},
   "outputs": [],
   "source": [
    "df_clean = df_clean[df_clean[\"UnitPrice\"] != 0]\n"
   ]
  },
  {
   "cell_type": "code",
   "execution_count": null,
   "id": "ead8ce0c-4645-4e59-8099-9afa52bafe37",
   "metadata": {},
   "outputs": [],
   "source": [
    " Transform the Data & 5. Feature Engineering "
   ]
  },
  {
   "cell_type": "code",
   "execution_count": 47,
   "id": "e247a322-e42a-4b61-b747-054c1c627d1f",
   "metadata": {},
   "outputs": [],
   "source": [
    "# Create a new feature: 'TotalPrice'\n",
    "df_clean['TotalPrice'] = df_clean['Quantity'] * df_clean['UnitPrice']"
   ]
  },
  {
   "cell_type": "code",
   "execution_count": 73,
   "id": "c2165a09-2e42-4ff2-9deb-c9fe9798ea2a",
   "metadata": {},
   "outputs": [],
   "source": [
    "# For customer segmentation, it's best to aggregate data at the customer level.\n",
    "# We will create a new DataFrame with one row per customer."
   ]
  },
  {
   "cell_type": "code",
   "execution_count": 49,
   "id": "c6c2a17f-008f-4c21-a6f6-b98ce6e95a16",
   "metadata": {},
   "outputs": [],
   "source": [
    "customer_df = df_clean.groupby('CustomerID').agg(\n",
    "    TotalSpent=('TotalPrice', 'sum'),\n",
    "    TotalItems=('Quantity', 'sum'),\n",
    "    TotalTransactions=('InvoiceNo', 'nunique'),\n",
    "    LastPurchaseDate=('InvoiceDate', 'max')\n",
    ").reset_index()"
   ]
  },
  {
   "cell_type": "code",
   "execution_count": 53,
   "id": "d33fc2fb-1cd4-4a09-acdf-fd37a86dd323",
   "metadata": {},
   "outputs": [],
   "source": [
    "# Create a 'Recency' feature\n",
    "# Recency is the number of days since the last purchase\n",
    "latest_date = customer_df['LastPurchaseDate'].max()\n",
    "customer_df['Recency'] = (latest_date - customer_df['LastPurchaseDate']).dt.days"
   ]
  },
  {
   "cell_type": "code",
   "execution_count": null,
   "id": "2b1f6b18-cc2c-4094-a30f-7a5a70a1db3b",
   "metadata": {},
   "outputs": [],
   "source": [
    "# Feature Selection: Select the most relevant features for clustering"
   ]
  },
  {
   "cell_type": "code",
   "execution_count": 57,
   "id": "bb185d56-c226-457b-98a5-6de55e0844aa",
   "metadata": {},
   "outputs": [],
   "source": [
    "# Identify numerical features for scaling\n",
    "numerical_features = ['TotalSpent', 'TotalItems', 'TotalTransactions', 'Recency']"
   ]
  },
  {
   "cell_type": "code",
   "execution_count": 59,
   "id": "b3930656-8c45-47b4-b52e-3d96788e66dd",
   "metadata": {},
   "outputs": [],
   "source": [
    "from sklearn.preprocessing import StandardScaler, OneHotEncoder\n",
    "from sklearn.compose import ColumnTransformer\n",
    "from sklearn.pipeline import Pipeline"
   ]
  },
  {
   "cell_type": "code",
   "execution_count": null,
   "id": "2ac7d551-dc7c-4612-bcbd-b7b3c95d8972",
   "metadata": {},
   "outputs": [],
   "source": [
    "# Normalize/Standardize the Data: K-Means is sensitive to the scale of features.\n",
    "# We'll use StandardScaler to give all features equal weight."
   ]
  },
  {
   "cell_type": "code",
   "execution_count": 61,
   "id": "6af5a497-e416-48ea-acc6-2e94ef3bc259",
   "metadata": {},
   "outputs": [],
   "source": [
    "# Create a preprocessing pipeline to scale numerical data\n",
    "preprocessor = Pipeline(steps=[\n",
    "    ('scaler', StandardScaler())\n",
    "])"
   ]
  },
  {
   "cell_type": "code",
   "execution_count": 63,
   "id": "d6f5f6d4-4d61-4824-ab8a-f1456a492323",
   "metadata": {},
   "outputs": [],
   "source": [
    "# Apply the transformations\n",
    "customer_df_scaled = preprocessor.fit_transform(customer_df[numerical_features])\n"
   ]
  },
  {
   "cell_type": "code",
   "execution_count": 67,
   "id": "db2a1fd1-31e0-4122-b454-72c458012c34",
   "metadata": {},
   "outputs": [
    {
     "name": "stdout",
     "output_type": "stream",
     "text": [
      "\n",
      "Data has been scaled and is ready for clustering.\n",
      "Shape of the scaled data: (4371, 4)\n"
     ]
    }
   ],
   "source": [
    "# The `customer_df_scaled` is now ready for the K-Means clustering algorithm!\n",
    "print(\"\\nData has been scaled and is ready for clustering.\")\n",
    "print(\"Shape of the scaled data:\", customer_df_scaled.shape)"
   ]
  },
  {
   "cell_type": "code",
   "execution_count": null,
   "id": "de8563a9-f576-4d80-95c3-35e5ea4ed716",
   "metadata": {},
   "outputs": [],
   "source": []
  },
  {
   "cell_type": "code",
   "execution_count": null,
   "id": "f4de1517-2792-4e54-bf00-2dbc67413104",
   "metadata": {},
   "outputs": [],
   "source": []
  },
  {
   "cell_type": "code",
   "execution_count": null,
   "id": "45567006-f7cd-4335-8198-806291fd4cb3",
   "metadata": {},
   "outputs": [],
   "source": []
  },
  {
   "cell_type": "code",
   "execution_count": null,
   "id": "dcb44fc7-016b-43de-a9e6-b09aab3f9367",
   "metadata": {},
   "outputs": [],
   "source": []
  },
  {
   "cell_type": "code",
   "execution_count": null,
   "id": "0b54e0e5-1a15-48ab-9618-a0431fe12356",
   "metadata": {},
   "outputs": [],
   "source": []
  },
  {
   "cell_type": "code",
   "execution_count": null,
   "id": "88fdac0b-9365-4465-8239-b067c7b65871",
   "metadata": {},
   "outputs": [],
   "source": []
  }
 ],
 "metadata": {
  "kernelspec": {
   "display_name": "Python [conda env:base] *",
   "language": "python",
   "name": "conda-base-py"
  },
  "language_info": {
   "codemirror_mode": {
    "name": "ipython",
    "version": 3
   },
   "file_extension": ".py",
   "mimetype": "text/x-python",
   "name": "python",
   "nbconvert_exporter": "python",
   "pygments_lexer": "ipython3",
   "version": "3.12.7"
  }
 },
 "nbformat": 4,
 "nbformat_minor": 5
}
